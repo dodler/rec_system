{
 "cells": [
  {
   "cell_type": "markdown",
   "metadata": {},
   "source": [
    "<span style=\"font-size: 14pt\">MIPT, Advanced ML, Autumn 2017</span>\n",
    "\n",
    "<span style=\"font-size: 16pt\"> HW #10: Recommender Systems\n",
    "\n",
    "<span style=\"color:blue; font-size: 12pt\">Andrey Saitgalin </span>,\n",
    "<span style=\"color:blue; font-size: 12pt; font-family: 'Verdana'\"> andrey.saitgalin@gmail.com </span>"
   ]
  },
  {
   "cell_type": "markdown",
   "metadata": {},
   "source": [
    "<h1 align=\"center\">Organization Info</h1> \n",
    "\n",
    "* Дедлайн **18 декабря 23:59** для всех групп.\n",
    "* В качестве решения задания нужно прислать ноутбук с подробными комментариями (<span style='color:red'> без присланного решения результат контеста не будет засчитан </span>).\n",
    "* <span style='color:red'>Название команды в контесте должно соответствовать шаблону: НомерГруппы_Имя_Фамилия, например, 494_Ivan_Ivanov</span>."
   ]
  },
  {
   "cell_type": "markdown",
   "metadata": {},
   "source": [
    "**Оформление дз**: \n",
    "- Присылайте выполненное задание на почту ``ml.course.mipt@gmail.com``\n",
    "- Укажите тему письма в следующем формате ``ML2017_Aut_fall <номер_группы> <фамилия>``, к примеру -- ``ML2017_Aut_fall 401 ivanov``\n",
    "- Выполненное дз сохраните в файл ``<фамилия>_<группа>_task<номер>.ipnb``, к примеру -- ``ivanov_401_task10.ipnb``\n",
    "\n",
    "**Вопросы**:\n",
    "- Присылайте вопросы на почту ``ml.course.mipt@gmail.com``\n",
    "- Укажите тему письма в следующем формате ``ML2017_Aut_fall Question <Содержание вопроса>``\n",
    "\n",
    "\n",
    "--------\n",
    "- **PS1**: Мы используем автоматические фильтры, и просто не найдем ваше дз, если вы не аккуратно его подпишите.\n",
    "- **PS2**: Напоминаем, что дедлайны жесткие, письма пришедшие после автоматически удаляются =( чтобы соблазна не было."
   ]
  },
  {
   "cell_type": "markdown",
   "metadata": {},
   "source": [
    "<h1 align=\"center\">Contest (100%)</h1> \n",
    "* Ссылка на контест: https://www.kaggle.com/t/f37413eb448145acba822f3a8c43946d"
   ]
  },
  {
   "cell_type": "markdown",
   "metadata": {},
   "source": [
    "## acquiring data"
   ]
  },
  {
   "cell_type": "code",
   "execution_count": 1,
   "metadata": {
    "collapsed": true
   },
   "outputs": [],
   "source": [
    "import pandas as pd\n",
    "import numpy as np\n",
    "import matplotlib.pyplot as plt"
   ]
  },
  {
   "cell_type": "code",
   "execution_count": 2,
   "metadata": {
    "collapsed": true
   },
   "outputs": [],
   "source": [
    "train = pd.read_csv('train.csv')\n",
    "test = pd.read_csv('test.csv')\n",
    "links = pd.read_csv('ml-20m/links.csv')"
   ]
  },
  {
   "cell_type": "code",
   "execution_count": 9,
   "metadata": {},
   "outputs": [
    {
     "data": {
      "image/png": "[encoded data removed]",
      "text/plain": [
       "<matplotlib.figure.Figure at 0x7f350224f470>"
      ]
     },
     "metadata": {},
     "output_type": "display_data"
    }
   ],
   "source": [
    "plt.hist(train.iloc[:,0])\n",
    "plt.show()"
   ]
  },
  {
   "cell_type": "code",
   "execution_count": 3,
   "metadata": {},
   "outputs": [
    {
     "data": {
      "text/html": [
       "<div>\n",
       "<style>\n",
       "    .dataframe thead tr:only-child th {\n",
       "        text-align: right;\n",
       "    }\n",
       "\n",
       "    .dataframe thead th {\n",
       "        text-align: left;\n",
       "    }\n",
       "\n",
       "    .dataframe tbody tr th {\n",
       "        vertical-align: top;\n",
       "    }\n",
       "</style>\n",
       "<table border=\"1\" class=\"dataframe\">\n",
       "  <thead>\n",
       "    <tr style=\"text-align: right;\">\n",
       "      <th></th>\n",
       "      <th>rating</th>\n",
       "      <th>movieId</th>\n",
       "      <th>userId</th>\n",
       "    </tr>\n",
       "  </thead>\n",
       "  <tbody>\n",
       "    <tr>\n",
       "      <th>0</th>\n",
       "      <td>3.0</td>\n",
       "      <td>2158</td>\n",
       "      <td>10953099004185006703</td>\n",
       "    </tr>\n",
       "    <tr>\n",
       "      <th>1</th>\n",
       "      <td>3.5</td>\n",
       "      <td>12959</td>\n",
       "      <td>10953099004185006703</td>\n",
       "    </tr>\n",
       "    <tr>\n",
       "      <th>2</th>\n",
       "      <td>3.5</td>\n",
       "      <td>7808</td>\n",
       "      <td>10953099004185006703</td>\n",
       "    </tr>\n",
       "    <tr>\n",
       "      <th>3</th>\n",
       "      <td>4.0</td>\n",
       "      <td>9049</td>\n",
       "      <td>4762492897681260571</td>\n",
       "    </tr>\n",
       "    <tr>\n",
       "      <th>4</th>\n",
       "      <td>3.0</td>\n",
       "      <td>12363</td>\n",
       "      <td>2110017552365950661</td>\n",
       "    </tr>\n",
       "  </tbody>\n",
       "</table>\n",
       "</div>"
      ],
      "text/plain": [
       "   rating  movieId                userId\n",
       "0     3.0     2158  10953099004185006703\n",
       "1     3.5    12959  10953099004185006703\n",
       "2     3.5     7808  10953099004185006703\n",
       "3     4.0     9049   4762492897681260571\n",
       "4     3.0    12363   2110017552365950661"
      ]
     },
     "execution_count": 3,
     "metadata": {},
     "output_type": "execute_result"
    }
   ],
   "source": [
    "train.head()"
   ]
  },
  {
   "cell_type": "markdown",
   "metadata": {},
   "source": [
    "## glove"
   ]
  },
  {
   "cell_type": "code",
   "execution_count": 3,
   "metadata": {
    "collapsed": true
   },
   "outputs": [],
   "source": [
    "w2v_gl = {}"
   ]
  },
  {
   "cell_type": "code",
   "execution_count": 4,
   "metadata": {
    "collapsed": true
   },
   "outputs": [],
   "source": [
    "def l2dict(l):\n",
    "    spl = l.split()\n",
    "    w2v_gl[spl[0]] = np.array(spl[1:len(spl)]).astype('float32')"
   ]
  },
  {
   "cell_type": "code",
   "execution_count": 5,
   "metadata": {
    "collapsed": true
   },
   "outputs": [],
   "source": [
    "with open('glove.6B.300d.txt') as f:\n",
    "    for l in f.readlines():\n",
    "        l2dict(l)"
   ]
  },
  {
   "cell_type": "code",
   "execution_count": 6,
   "metadata": {
    "collapsed": true
   },
   "outputs": [],
   "source": [
    "def get_sen_vector(sen):\n",
    "    v = np.zeros(300)\n",
    "    er_rate = 0\n",
    "    for w in sen:\n",
    "        if w in w2v_gl:\n",
    "            v = np.add(v, w2v_gl[w])\n",
    "        else:\n",
    "            er_rate += 1\n",
    "        \n",
    "    #print(er_rate / (len(sen) + 0.001))\n",
    "    return v"
   ]
  },
  {
   "cell_type": "markdown",
   "metadata": {},
   "source": [
    "## getting embeddings for movie description"
   ]
  },
  {
   "cell_type": "code",
   "execution_count": 3,
   "metadata": {
    "collapsed": true
   },
   "outputs": [],
   "source": [
    "def get_tmdbid(mid):\n",
    "    tid = links[links['movieId'] == mid]\n",
    "    if len(tid) == 0:\n",
    "        return 0\n",
    "    return tid.iloc[0,2]"
   ]
  },
  {
   "cell_type": "code",
   "execution_count": 4,
   "metadata": {
    "collapsed": true
   },
   "outputs": [],
   "source": [
    "def mid2emb(mid):\n",
    "    tmdbid = get_tmdbid(mid)\n",
    "    #print(tmdbid)\n",
    "    if tmdbid == 0:\n",
    "        return np.zeros(300)\n",
    "    desc = fetch_desc_by(str(tmdbid))\n",
    "    #print(desc)\n",
    "    v = get_sen_vector(desc.split())\n",
    "    return v"
   ]
  },
  {
   "cell_type": "code",
   "execution_count": 5,
   "metadata": {
    "collapsed": true
   },
   "outputs": [],
   "source": [
    "import requests"
   ]
  },
  {
   "cell_type": "code",
   "execution_count": 6,
   "metadata": {
    "collapsed": true
   },
   "outputs": [],
   "source": [
    "desc_cache = {}"
   ]
  },
  {
   "cell_type": "code",
   "execution_count": 7,
   "metadata": {
    "collapsed": true
   },
   "outputs": [],
   "source": [
    "def write_cache_to_file(path):\n",
    "    with open(path,'w') as f:\n",
    "        f.write('id,desc\\n')\n",
    "        for k in desc_cache.keys():\n",
    "            f.write(k + ',' + desc_cache[k] + '\\n')\n",
    "        "
   ]
  },
  {
   "cell_type": "code",
   "execution_count": 8,
   "metadata": {
    "collapsed": true
   },
   "outputs": [],
   "source": [
    "write_cache_to_file('dump_full.txt')"
   ]
  },
  {
   "cell_type": "code",
   "execution_count": 28,
   "metadata": {},
   "outputs": [
    {
     "name": "stdout",
     "output_type": "stream",
     "text": [
      "1\n",
      "empty description for - Written by James Meek\n",
      "\n",
      "1\n",
      "empty description for Combining a vicious sense of humor with hard-talking drama, the film reaches into the hearts and minds of the chemical generation, casting a dark and unholy light into the hidden corners of the human psyche.\n",
      "\n",
      "1\n",
      "empty description for Directed by Paul McGuigan, the film dramatises three stories from the book: 1- The Granton Star Cause, 2- A Soft Touch &amp; 3- The Acid House.\n",
      "\n",
      "1\n",
      "empty description for As the main character, The Chosen One, Oedekerk sets off to avenge the deaths of his parents at the hands of kung-fu legend Master Pain. Along the way, he encounters some strange characters\n",
      "\n",
      "1\n",
      "empty description for But this film is not about the story, it's all about style. Alain Resnais has an original approach in this film and this is the thing that makes this film worth watching.\n",
      "\n"
     ]
    }
   ],
   "source": [
    "desc_cache = get_cache_from('dump_full.txt')"
   ]
  },
  {
   "cell_type": "code",
   "execution_count": 27,
   "metadata": {
    "collapsed": true
   },
   "outputs": [],
   "source": [
    "def get_cache_from(path):\n",
    "    res = {}\n",
    "    with open(path,'r') as f:\n",
    "        i = 0\n",
    "        for l in f.readlines()[1:]:\n",
    "            if i == 0:\n",
    "                i+=1 # to skip first line\n",
    "                continue\n",
    "                \n",
    "            spl = l.split('.0,')\n",
    "            if len(spl) == 2:\n",
    "                res[spl[0]] = spl[1]\n",
    "            else:\n",
    "                print(len(spl))\n",
    "                print('empty description for' + l)\n",
    "                \n",
    "            \n",
    "            i+= 1\n",
    "            \n",
    "    return res"
   ]
  },
  {
   "cell_type": "code",
   "execution_count": 11,
   "metadata": {
    "collapsed": true
   },
   "outputs": [],
   "source": [
    "def fetch_desc_by(f_id):\n",
    "    if f_id in desc_cache:\n",
    "        return desc_cache[f_id]\n",
    "    else:\n",
    "        json = requests.get('https://api.themoviedb.org/3/movie/'+f_id+'?api_key=b0da6cc7b6f4069733a9a354e88a0c15&language=en-US').json()\n",
    "        #print(json)\n",
    "        if 'overview' in json:\n",
    "            desc_cache[f_id] = json['overview']\n",
    "            return json['overview']\n",
    "        else:\n",
    "            return ''"
   ]
  },
  {
   "cell_type": "markdown",
   "metadata": {},
   "source": [
    "## test"
   ]
  },
  {
   "cell_type": "code",
   "execution_count": 29,
   "metadata": {},
   "outputs": [
    {
     "name": "stdout",
     "output_type": "stream",
     "text": [
      "0.1489330014255016\n"
     ]
    },
    {
     "data": {
      "text/plain": [
       "array([ -7.34990799e+00,   2.42860108e+00,  -1.97077790e+00,\n",
       "        -8.68629114e+00,  -1.17168404e+00,  -3.66019599e-01,\n",
       "        -2.42990897e+00,  -2.33048601e+00,   6.01431495e+00,\n",
       "        -5.85443700e+01,   1.61643567e+00,  -6.79365993e-01,\n",
       "        -6.28049724e-01,   4.12783558e+00,  -4.78267444e-01,\n",
       "         8.80576103e+00,  -7.06184797e+00,  -1.03390258e+00,\n",
       "         2.79761464e+00,  -1.06080951e-01,  -1.30586996e+00,\n",
       "         7.59241212e+00,   4.44083199e+00,   4.87678316e+00,\n",
       "        -9.03617491e+00,  -4.21011153e+00,   3.63220404e+00,\n",
       "         1.68983126e-01,  -1.24398504e+00,   3.32109995e+00,\n",
       "        -1.70758998e+00,   8.70545208e+00,  -2.21492563e+00,\n",
       "         8.18687496e+00,  -3.54871850e+01,   5.45675214e+00,\n",
       "        -2.79978913e+00,   2.92194136e+00,  -7.55339594e+00,\n",
       "        -1.45064600e+00,   3.69572673e-01,  -3.10054994e-01,\n",
       "        -8.08720993e-01,  -1.57634107e+00,   2.69234205e+00,\n",
       "         5.21684112e+00,   8.08670418e+00,   5.98066381e+00,\n",
       "        -3.22499403e+00,   1.97224778e+00,   3.78341831e+00,\n",
       "        -6.05495918e+00,   4.29614400e+00,   1.98466007e+00,\n",
       "        -2.52313108e+00,   3.72390197e+00,  -1.40702713e+00,\n",
       "         5.22710797e+00,   3.99710297e+00,  -2.37371190e+00,\n",
       "         1.29670918e+00,   1.33732712e+00,   8.70152933e+00,\n",
       "        -1.38549993e+00,  -1.35305958e+00,  -1.51899431e+01,\n",
       "         4.66598160e+00,  -9.46287192e-01,   5.50287374e+00,\n",
       "        -5.16057403e+00,   2.19911687e+00,  -1.76757568e+00,\n",
       "         2.97236745e+00,   4.16786853e+00,  -2.67610696e+00,\n",
       "         4.04879982e-01,  -3.26839538e-01,   3.88412628e+00,\n",
       "        -2.77437992e+00,  -4.04575387e+00,  -3.97647896e+00,\n",
       "         1.51872019e+00,   3.35602262e+00,   2.67217813e+00,\n",
       "         2.98368088e+00,   2.85518494e+00,  -1.21999814e+00,\n",
       "         1.32337201e+00,   2.03683839e+00,   1.31078904e+00,\n",
       "        -7.33875388e-01,   4.88317759e+00,  -5.64752077e+00,\n",
       "        -5.59290696e+00,  -3.68018869e+00,  -4.38732796e+00,\n",
       "        -7.45981096e+00,  -4.46801877e+00,   4.80161039e-01,\n",
       "        -1.03317010e+01,  -7.35957963e-01,   3.57098798e+00,\n",
       "        -3.55471097e+00,  -3.47688953e+00,  -1.61674980e+00,\n",
       "        -1.84309229e+00,   8.82109448e+00,   3.35313404e+00,\n",
       "        -6.86414199e+00,  -1.00657792e+00,  -2.43994211e+00,\n",
       "        -3.51397698e+00,  -8.67047703e+00,  -6.45895787e+00,\n",
       "         4.96303488e+00,   6.31572231e+00,  -4.55312771e+00,\n",
       "         3.34918043e-01,   2.68996138e+00,  -8.65949998e+00,\n",
       "        -1.79943028e+00,   3.25968992e-01,  -2.38881002e+00,\n",
       "         3.32548737e+00,  -1.21141306e+00,  -1.79998003e+00,\n",
       "         3.65790803e+00,  -5.04566922e-01,   7.07119362e+00,\n",
       "        -1.87186083e+00,   4.56606496e+00,   7.28461001e+00,\n",
       "         9.14873000e-01,  -1.13676915e+00,  -7.46591641e-01,\n",
       "         5.13488201e-02,   3.02799084e+00,  -3.01936374e+00,\n",
       "         6.82151391e-01,   1.22470098e+00,   7.87906227e-01,\n",
       "         2.41577297e+00,  -9.85722991e-01,   6.29595664e+00,\n",
       "        -1.50293429e+01,  -1.99963299e+00,   1.21368799e+00,\n",
       "         1.56776113e+00,  -4.39132011e+00,  -1.97761345e+00,\n",
       "         1.12034580e+01,   2.71311050e+00,   7.58504950e-01,\n",
       "        -7.37519415e-02,   1.15777530e+01,  -1.30084405e-01,\n",
       "        -3.13939307e+00,  -2.73899502e+00,   3.39376412e+00,\n",
       "         1.14629872e+00,   5.79137589e+00,  -5.66687604e+00,\n",
       "         3.80032996e+00,  -2.64318798e+00,   7.20607609e-01,\n",
       "        -1.96407897e+00,  -1.37476906e+00,   4.70778603e+00,\n",
       "         6.38019459e+00,   5.64876051e+00,  -3.53752956e-01,\n",
       "         2.03980196e-01,  -2.03968099e+01,   4.26423660e+00,\n",
       "        -2.40441070e+00,   2.01189099e+00,  -3.08988093e+00,\n",
       "        -3.75385512e+00,  -2.28682812e+00,   8.23680819e+00,\n",
       "         5.79834317e+00,   5.17190907e+00,   7.68963695e+00,\n",
       "         4.03811509e+00,  -4.47254918e-01,  -4.02336507e+00,\n",
       "        -7.20765914e+00,   5.95230481e+00,  -1.33597805e+00,\n",
       "         1.11135759e+00,  -3.55696325e-01,   6.54387100e+00,\n",
       "        -3.45296675e+00,  -4.58647799e+00,  -4.52305590e-01,\n",
       "        -1.12501295e+00,  -6.49505905e+00,  -4.38705493e+00,\n",
       "         3.34899399e+00,  -1.02793064e+00,   3.98596130e+01,\n",
       "        -2.71939105e-01,   4.55610456e+00,   2.80488703e+00,\n",
       "         1.83912199e+00,  -1.51588302e+00,  -2.47457906e+00,\n",
       "         1.01901006e+00,  -2.76687306e+00,  -2.18431115e+00,\n",
       "         5.90856550e-01,  -2.60567357e+00,   3.27448103e+00,\n",
       "        -6.68131986e-01,   5.26984900e+00,   5.79225399e+00,\n",
       "         7.02919986e-01,  -2.02110300e+00,  -2.22392452e+00,\n",
       "         3.45871813e+00,   1.10141362e+01,  -2.72936583e+00,\n",
       "        -8.29922007e+00,   4.62496998e+00,  -9.76041141e-01,\n",
       "        -2.21241117e-01,   2.19085097e+00,  -1.53056397e+00,\n",
       "         1.87644434e+00,  -2.36479160e+00,   4.74420325e+00,\n",
       "         2.81394993e+00,  -2.16268283e+00,  -3.60722394e+00,\n",
       "         6.67087117e+00,   4.47029699e+00,   4.75999428e+00,\n",
       "         2.07246803e+00,  -4.62584704e+00,   4.77198786e+00,\n",
       "         2.41646500e+00,   1.37695505e+00,   6.78012748e+00,\n",
       "         2.61254496e+00,  -2.20220821e+01,  -2.56242935e+00,\n",
       "         1.00179193e+01,   1.00403851e-01,  -3.61596048e-03,\n",
       "        -1.59127113e+00,   1.76245997e+00,  -4.04723236e+00,\n",
       "         1.08624856e+00,  -3.12750893e+00,   2.07898017e+01,\n",
       "         1.97868804e+00,  -3.44302712e-01,  -2.94363197e+00,\n",
       "         3.40850994e+00,   7.96443401e+00,  -1.36130772e+00,\n",
       "        -2.53270396e+00,   3.47333305e+00,   3.10822608e+00,\n",
       "        -2.85814024e+00,   3.29884995e-01,  -3.93180308e+00,\n",
       "        -1.87590097e+00,   1.84762241e+00,   2.85537995e-01,\n",
       "        -4.02274422e+00,  -4.89209312e+00,   8.89965770e-01,\n",
       "         4.84593693e+00,   4.29862686e+00,  -6.32167036e-01,\n",
       "        -7.41079596e+01,  -4.26042300e+00,   1.52722131e+01,\n",
       "         1.23722504e+00,  -1.14220650e+01,   2.92596200e+00,\n",
       "         6.23811699e+00,   2.61262000e+00,  -2.65997438e+00,\n",
       "         1.00655544e+01,  -3.04399491e+00,   9.72412688e+00,\n",
       "        -2.40558243e-01,  -7.37552751e-01,  -2.58279302e+00,\n",
       "        -5.14027514e+00,  -2.37352504e+00,  -1.26243997e+00,\n",
       "         5.83299089e+00,   1.06797760e+01,   4.65539832e+00,\n",
       "        -5.76327799e+00,  -4.75852533e+00,   5.27230812e+00])"
      ]
     },
     "execution_count": 29,
     "metadata": {},
     "output_type": "execute_result"
    }
   ],
   "source": [
    "mid2emb(2158)"
   ]
  },
  {
   "cell_type": "markdown",
   "metadata": {},
   "source": [
    "## model, regression over description embeddings, disregarding user"
   ]
  },
  {
   "cell_type": "code",
   "execution_count": 30,
   "metadata": {},
   "outputs": [
    {
     "data": {
      "text/html": [
       "<div>\n",
       "<style>\n",
       "    .dataframe thead tr:only-child th {\n",
       "        text-align: right;\n",
       "    }\n",
       "\n",
       "    .dataframe thead th {\n",
       "        text-align: left;\n",
       "    }\n",
       "\n",
       "    .dataframe tbody tr th {\n",
       "        vertical-align: top;\n",
       "    }\n",
       "</style>\n",
       "<table border=\"1\" class=\"dataframe\">\n",
       "  <thead>\n",
       "    <tr style=\"text-align: right;\">\n",
       "      <th></th>\n",
       "      <th>rating</th>\n",
       "      <th>movieId</th>\n",
       "      <th>userId</th>\n",
       "    </tr>\n",
       "  </thead>\n",
       "  <tbody>\n",
       "    <tr>\n",
       "      <th>0</th>\n",
       "      <td>3.0</td>\n",
       "      <td>2158</td>\n",
       "      <td>10953099004185006703</td>\n",
       "    </tr>\n",
       "    <tr>\n",
       "      <th>1</th>\n",
       "      <td>3.5</td>\n",
       "      <td>12959</td>\n",
       "      <td>10953099004185006703</td>\n",
       "    </tr>\n",
       "    <tr>\n",
       "      <th>2</th>\n",
       "      <td>3.5</td>\n",
       "      <td>7808</td>\n",
       "      <td>10953099004185006703</td>\n",
       "    </tr>\n",
       "    <tr>\n",
       "      <th>3</th>\n",
       "      <td>4.0</td>\n",
       "      <td>9049</td>\n",
       "      <td>4762492897681260571</td>\n",
       "    </tr>\n",
       "    <tr>\n",
       "      <th>4</th>\n",
       "      <td>3.0</td>\n",
       "      <td>12363</td>\n",
       "      <td>2110017552365950661</td>\n",
       "    </tr>\n",
       "  </tbody>\n",
       "</table>\n",
       "</div>"
      ],
      "text/plain": [
       "   rating  movieId                userId\n",
       "0     3.0     2158  10953099004185006703\n",
       "1     3.5    12959  10953099004185006703\n",
       "2     3.5     7808  10953099004185006703\n",
       "3     4.0     9049   4762492897681260571\n",
       "4     3.0    12363   2110017552365950661"
      ]
     },
     "execution_count": 30,
     "metadata": {},
     "output_type": "execute_result"
    }
   ],
   "source": [
    "train.head()"
   ]
  },
  {
   "cell_type": "code",
   "execution_count": 12,
   "metadata": {
    "collapsed": true
   },
   "outputs": [],
   "source": [
    "rat = train.drop(['userId', 'movieId'], axis=1)"
   ]
  },
  {
   "cell_type": "code",
   "execution_count": 27,
   "metadata": {},
   "outputs": [
    {
     "data": {
      "text/plain": [
       "True"
      ]
     },
     "execution_count": 27,
     "metadata": {},
     "output_type": "execute_result"
    }
   ],
   "source": [
    "2158 in links['movieId']"
   ]
  },
  {
   "cell_type": "code",
   "execution_count": 24,
   "metadata": {},
   "outputs": [
    {
     "data": {
      "text/html": [
       "<div>\n",
       "<style>\n",
       "    .dataframe thead tr:only-child th {\n",
       "        text-align: right;\n",
       "    }\n",
       "\n",
       "    .dataframe thead th {\n",
       "        text-align: left;\n",
       "    }\n",
       "\n",
       "    .dataframe tbody tr th {\n",
       "        vertical-align: top;\n",
       "    }\n",
       "</style>\n",
       "<table border=\"1\" class=\"dataframe\">\n",
       "  <thead>\n",
       "    <tr style=\"text-align: right;\">\n",
       "      <th></th>\n",
       "      <th>movieId</th>\n",
       "      <th>imdbId</th>\n",
       "      <th>tmdbId</th>\n",
       "    </tr>\n",
       "  </thead>\n",
       "  <tbody>\n",
       "  </tbody>\n",
       "</table>\n",
       "</div>"
      ],
      "text/plain": [
       "Empty DataFrame\n",
       "Columns: [movieId, imdbId, tmdbId]\n",
       "Index: []"
      ]
     },
     "execution_count": 24,
     "metadata": {},
     "output_type": "execute_result"
    }
   ],
   "source": [
    "links[links['tmdbId'] == 12959]"
   ]
  },
  {
   "cell_type": "code",
   "execution_count": 38,
   "metadata": {},
   "outputs": [
    {
     "data": {
      "text/plain": [
       "0"
      ]
     },
     "execution_count": 38,
     "metadata": {},
     "output_type": "execute_result"
    }
   ],
   "source": [
    "len(links[links['movieId']==12959])"
   ]
  },
  {
   "cell_type": "code",
   "execution_count": 25,
   "metadata": {
    "collapsed": true
   },
   "outputs": [],
   "source": [
    "write_cache_to_file('dump_full.txt')"
   ]
  },
  {
   "cell_type": "code",
   "execution_count": 24,
   "metadata": {},
   "outputs": [
    {
     "name": "stdout",
     "output_type": "stream",
     "text": [
      "dumping to file\n",
      "dumping to file\n",
      "dumping to file\n",
      "dumping to file\n",
      "dumping to file\n",
      "dumping to file\n",
      "dumping to file\n",
      "dumping to file\n",
      "dumping to file\n",
      "dumping to file\n",
      "dumping to file\n",
      "dumping to file\n",
      "dumping to file\n",
      "dumping to file\n",
      "dumping to file\n",
      "dumping to file\n",
      "dumping to file\n",
      "dumping to file\n"
     ]
    }
   ],
   "source": [
    "embs = {}\n",
    "\n",
    "i = 0\n",
    "\n",
    "for row in train.iterrows():\n",
    "    mid = int(row[1][1])\n",
    "    if mid not in embs.keys():\n",
    "        i += 1\n",
    "        embs[mid] = (mid2emb(mid))\n",
    "        if i % 1000 == 0:\n",
    "            print('dumping to file')\n",
    "            write_cache_to_file('dump_' + str(i) + \".txt\")\n",
    "    "
   ]
  },
  {
   "cell_type": "markdown",
   "metadata": {},
   "source": [
    "## training model"
   ]
  },
  {
   "cell_type": "code",
   "execution_count": 33,
   "metadata": {
    "collapsed": true
   },
   "outputs": [],
   "source": [
    "trainX = []"
   ]
  },
  {
   "cell_type": "code",
   "execution_count": 34,
   "metadata": {
    "collapsed": true
   },
   "outputs": [],
   "source": [
    "for row in train.iterrows():\n",
    "    mid = int(row[1][1])\n",
    "    trainX.append(embs[mid])"
   ]
  },
  {
   "cell_type": "code",
   "execution_count": 35,
   "metadata": {},
   "outputs": [
    {
     "data": {
      "text/html": [
       "<div>\n",
       "<style>\n",
       "    .dataframe thead tr:only-child th {\n",
       "        text-align: right;\n",
       "    }\n",
       "\n",
       "    .dataframe thead th {\n",
       "        text-align: left;\n",
       "    }\n",
       "\n",
       "    .dataframe tbody tr th {\n",
       "        vertical-align: top;\n",
       "    }\n",
       "</style>\n",
       "<table border=\"1\" class=\"dataframe\">\n",
       "  <thead>\n",
       "    <tr style=\"text-align: right;\">\n",
       "      <th></th>\n",
       "      <th>rating</th>\n",
       "      <th>movieId</th>\n",
       "      <th>userId</th>\n",
       "    </tr>\n",
       "  </thead>\n",
       "  <tbody>\n",
       "    <tr>\n",
       "      <th>0</th>\n",
       "      <td>3.0</td>\n",
       "      <td>2158</td>\n",
       "      <td>10953099004185006703</td>\n",
       "    </tr>\n",
       "    <tr>\n",
       "      <th>1</th>\n",
       "      <td>3.5</td>\n",
       "      <td>12959</td>\n",
       "      <td>10953099004185006703</td>\n",
       "    </tr>\n",
       "  </tbody>\n",
       "</table>\n",
       "</div>"
      ],
      "text/plain": [
       "   rating  movieId                userId\n",
       "0     3.0     2158  10953099004185006703\n",
       "1     3.5    12959  10953099004185006703"
      ]
     },
     "execution_count": 35,
     "metadata": {},
     "output_type": "execute_result"
    }
   ],
   "source": [
    "train.head(2)"
   ]
  },
  {
   "cell_type": "code",
   "execution_count": 39,
   "metadata": {
    "collapsed": true
   },
   "outputs": [],
   "source": [
    "import gc"
   ]
  },
  {
   "cell_type": "code",
   "execution_count": 50,
   "metadata": {},
   "outputs": [
    {
     "name": "stderr",
     "output_type": "stream",
     "text": [
      "Exception ignored in: <bound method DMatrix.__del__ of <xgboost.core.DMatrix object at 0x7f2f9c073ef0>>\n",
      "Traceback (most recent call last):\n",
      "  File \"/home/dev/anaconda3/lib/python3.6/site-packages/xgboost/core.py\", line 324, in __del__\n",
      "    _check_call(_LIB.XGDMatrixFree(self.handle))\n",
      "AttributeError: 'DMatrix' object has no attribute 'handle'\n"
     ]
    },
    {
     "data": {
      "text/plain": [
       "347"
      ]
     },
     "execution_count": 50,
     "metadata": {},
     "output_type": "execute_result"
    }
   ],
   "source": [
    "del desc_cache\n",
    "del embs\n",
    "gc.collect()"
   ]
  },
  {
   "cell_type": "code",
   "execution_count": 56,
   "metadata": {
    "collapsed": true
   },
   "outputs": [],
   "source": [
    "trainY = np.array(train.iloc[1:100000,0])\n",
    "trainX = np.array(trainX[1:100000])"
   ]
  },
  {
   "cell_type": "code",
   "execution_count": 57,
   "metadata": {
    "collapsed": true
   },
   "outputs": [],
   "source": [
    "from sklearn.model_selection import train_test_split"
   ]
  },
  {
   "cell_type": "code",
   "execution_count": 67,
   "metadata": {
    "collapsed": true
   },
   "outputs": [],
   "source": [
    "tx,vx,ty,vy = train_test_split(trainX, trainY, test_size = 0.3)"
   ]
  },
  {
   "cell_type": "code",
   "execution_count": 66,
   "metadata": {},
   "outputs": [
    {
     "data": {
      "text/plain": [
       "array([ 4. ,  3.5,  3. , ...,  4.5,  5. ,  4. ])"
      ]
     },
     "execution_count": 66,
     "metadata": {},
     "output_type": "execute_result"
    }
   ],
   "source": [
    "vy"
   ]
  },
  {
   "cell_type": "markdown",
   "metadata": {},
   "source": [
    "## model"
   ]
  },
  {
   "cell_type": "code",
   "execution_count": 45,
   "metadata": {},
   "outputs": [
    {
     "name": "stderr",
     "output_type": "stream",
     "text": [
      "/home/dev/anaconda3/lib/python3.6/site-packages/sklearn/cross_validation.py:44: DeprecationWarning: This module was deprecated in version 0.18 in favor of the model_selection module into which all the refactored classes and functions are moved. Also note that the interface of the new CV iterators are different from that of this module. This module will be removed in 0.20.\n",
      "  \"This module will be removed in 0.20.\", DeprecationWarning)\n"
     ]
    }
   ],
   "source": [
    "import xgboost as xgb"
   ]
  },
  {
   "cell_type": "code",
   "execution_count": 69,
   "metadata": {
    "collapsed": true
   },
   "outputs": [],
   "source": [
    "dtrain = xgb.DMatrix(tx,ty)\n",
    "dval = xgb.DMatrix(vx,vy)"
   ]
  },
  {
   "cell_type": "code",
   "execution_count": 70,
   "metadata": {
    "collapsed": true
   },
   "outputs": [],
   "source": [
    "\n",
    "param = {'silent':1, 'objective':'reg:linear' }\n",
    "param['nthread'] = 4\n",
    "param['eval_metric'] = 'rmse'\n",
    "param['eta'] = 0.075\n",
    "param['max_depth'] = 5\n",
    "param['silent'] = 1\n",
    "param['n_estimators'] = 2000\n",
    "param['early_stopping_rounds'] = 30\n",
    "\n",
    "watchlist = [ (dtrain,'train'), (dval, 'val') ]"
   ]
  },
  {
   "cell_type": "code",
   "execution_count": 71,
   "metadata": {},
   "outputs": [
    {
     "name": "stdout",
     "output_type": "stream",
     "text": [
      "[0]\ttrain-rmse:2.8319\tval-rmse:2.83141\n",
      "[100]\ttrain-rmse:0.966275\tval-rmse:0.988629\n",
      "[200]\ttrain-rmse:0.93716\tval-rmse:0.970924\n",
      "[300]\ttrain-rmse:0.922196\tval-rmse:0.964058\n",
      "[400]\ttrain-rmse:0.913662\tval-rmse:0.96109\n",
      "[500]\ttrain-rmse:0.907896\tval-rmse:0.960156\n",
      "[600]\ttrain-rmse:0.90369\tval-rmse:0.959933\n",
      "[700]\ttrain-rmse:0.900523\tval-rmse:0.960361\n",
      "[800]\ttrain-rmse:0.898155\tval-rmse:0.960593\n",
      "[900]\ttrain-rmse:0.896274\tval-rmse:0.961199\n"
     ]
    }
   ],
   "source": [
    "bst = xgb.train(param, dtrain, 1000, watchlist,verbose_eval=100)"
   ]
  },
  {
   "cell_type": "code",
   "execution_count": 72,
   "metadata": {
    "collapsed": true
   },
   "outputs": [],
   "source": [
    "bst.save_model('300_w2v_xgb_2000estim.mdl')"
   ]
  },
  {
   "cell_type": "markdown",
   "metadata": {},
   "source": [
    "## doing filtering in batches"
   ]
  },
  {
   "cell_type": "code",
   "execution_count": 5,
   "metadata": {
    "collapsed": true
   },
   "outputs": [],
   "source": [
    "from sklearn.metrics import mean_squared_error\n",
    "from sklearn.decomposition import TruncatedSVD"
   ]
  },
  {
   "cell_type": "code",
   "execution_count": 3,
   "metadata": {},
   "outputs": [],
   "source": [
    "FB_SIZE = 10000\n",
    "LEN = test.shape[0]\n",
    "BATCH_NUM = int(LEN / FB_SIZE)\n",
    "B_RES = FB_SIZE * BATCH_NUM"
   ]
  },
  {
   "cell_type": "code",
   "execution_count": 10,
   "metadata": {},
   "outputs": [
    {
     "name": "stdout",
     "output_type": "stream",
     "text": [
      "doing 0 10000 mse 6.76679283418e-05\n",
      "doing 10000 20000 mse 6.60046698511e-05\n",
      "doing 20000 30000 mse 6.83247908226e-05\n",
      "doing 30000 40000 mse 6.80753651784e-05\n",
      "doing 40000 50000 mse 6.69501334162e-05\n",
      "doing 50000 60000 mse 6.78043258424e-05\n",
      "doing 60000 70000 mse 6.51266581119e-05\n",
      "doing 70000 80000 mse 6.34228959068e-05\n",
      "doing 80000 90000 mse 6.6632486488e-05\n",
      "doing 90000 100000 mse 6.7597774893e-05\n",
      "doing 100000 110000 mse 6.82653338163e-05\n",
      "doing 110000 120000 mse 6.29741454907e-05\n",
      "doing 120000 130000 mse 6.68777464304e-05\n",
      "doing 130000 140000 mse 6.72097882164e-05\n",
      "doing 140000 150000 mse 6.63117021861e-05\n",
      "doing 150000 160000 mse 7.08849327524e-05\n",
      "doing 160000 170000 mse 6.42945949613e-05\n",
      "doing 170000 180000 mse 6.43395214626e-05\n",
      "doing 180000 190000 mse 6.47802773786e-05\n",
      "doing 190000 200000 mse 6.5431351415e-05\n",
      "doing 200000 210000 mse 6.6462152635e-05\n",
      "doing 210000 220000 mse 6.6218587505e-05\n",
      "doing 220000 230000 mse 6.58203216386e-05\n",
      "doing 230000 240000 mse 6.61716597028e-05\n",
      "doing 240000 250000 mse 6.50861384998e-05\n",
      "doing 250000 260000 mse 6.6517971345e-05\n",
      "doing 260000 270000 mse 6.71991578879e-05\n",
      "doing 270000 280000 mse 6.64653440829e-05\n",
      "doing 280000 290000 mse 6.3372749173e-05\n",
      "doing 290000 300000 mse 6.76229748745e-05\n",
      "doing 300000 310000 mse 6.54178628172e-05\n",
      "doing 310000 320000 mse 6.49673594963e-05\n",
      "doing 320000 330000 mse 6.57952095789e-05\n",
      "doing 330000 340000 mse 6.68318575392e-05\n",
      "doing 340000 350000 mse 6.61440499792e-05\n",
      "doing 350000 360000 mse 6.3844455267e-05\n",
      "doing 360000 370000 mse 6.64459396701e-05\n",
      "doing 370000 380000 mse 6.37129144394e-05\n",
      "doing 380000 390000 mse 6.83593131408e-05\n",
      "doing 390000 400000 mse 6.60413108506e-05\n",
      "doing 400000 410000 mse 6.76654515445e-05\n",
      "doing 410000 420000 mse 6.70571845856e-05\n",
      "doing 420000 430000 mse 6.84706997767e-05\n",
      "doing 430000 440000 mse 6.42332679337e-05\n",
      "doing 440000 450000 mse 6.789854092e-05\n",
      "doing 450000 460000 mse 6.47200771717e-05\n",
      "doing 460000 470000 mse 6.4885814602e-05\n",
      "doing 470000 480000 mse 6.3979644756e-05\n",
      "doing 480000 490000 mse 6.79004227126e-05\n",
      "doing 490000 500000 mse 6.62069831552e-05\n",
      "doing 500000 510000 mse 6.57054099371e-05\n",
      "doing 510000 520000 mse 6.6633425474e-05\n",
      "doing 520000 530000 mse 6.64428421094e-05\n",
      "doing 530000 540000 mse 6.4883034618e-05\n",
      "doing 540000 550000 mse 6.72363419819e-05\n",
      "doing 550000 560000 mse 6.76436815272e-05\n",
      "doing 560000 570000 mse 6.88117060114e-05\n",
      "doing 570000 580000 mse 6.67668068462e-05\n",
      "doing 580000 590000 mse 6.70941632484e-05\n",
      "doing 590000 600000 mse 6.6015092776e-05\n",
      "doing 600000 610000 mse 6.68441171076e-05\n",
      "doing 610000 620000 mse 6.74686100079e-05\n",
      "doing 620000 630000 mse 6.55040776578e-05\n",
      "doing 630000 640000 mse 6.48488707449e-05\n",
      "doing 640000 650000 mse 6.31054635681e-05\n",
      "doing 650000 660000 mse 6.61354540541e-05\n",
      "doing 660000 670000 mse 6.82884557577e-05\n",
      "doing 670000 680000 mse 6.82747708785e-05\n",
      "doing 680000 690000 mse 6.52116397813e-05\n",
      "doing 690000 700000 mse 6.91222877499e-05\n",
      "doing 700000 710000 mse 6.76386040104e-05\n",
      "doing 710000 720000 mse 6.8173488184e-05\n",
      "doing 720000 730000 mse 6.67615427591e-05\n",
      "doing 730000 740000 mse 6.85175483022e-05\n",
      "doing 740000 750000 mse 6.76448068859e-05\n",
      "doing 750000 760000 mse 6.84182217582e-05\n",
      "doing 760000 770000 mse 6.75198196393e-05\n",
      "doing 770000 780000 mse 6.66940253869e-05\n",
      "doing 780000 790000 mse 6.66568981791e-05\n",
      "doing 790000 800000 mse 7.04986268383e-05\n",
      "doing 800000 810000 mse 6.84446791307e-05\n",
      "doing 810000 820000 mse 7.08833542682e-05\n",
      "doing 820000 830000 mse 6.89703265689e-05\n",
      "doing 830000 840000 mse 7.28827195065e-05\n",
      "doing 840000 850000 mse 6.95796520028e-05\n",
      "doing 850000 860000 mse 6.92995361397e-05\n",
      "doing 860000 870000 mse 7.0072704786e-05\n",
      "doing 870000 880000 mse 7.23693875163e-05\n",
      "doing 880000 890000 mse 7.18459481574e-05\n",
      "doing 890000 900000 mse 7.10494405821e-05\n",
      "doing 900000 910000 mse 7.10503822461e-05\n",
      "doing 910000 920000 mse 6.91380464221e-05\n",
      "doing 920000 930000 mse 7.13773407798e-05\n",
      "doing 930000 940000 mse 7.22576108109e-05\n",
      "doing 940000 950000 mse 7.90597022307e-05\n",
      "doing 950000 960000 mse 7.90138096028e-05\n"
     ]
    }
   ],
   "source": [
    "summary_mse = 0\n",
    "for i in range(0, BATCH_NUM):\n",
    "    start = i * FB_SIZE\n",
    "    end = (i+1) * FB_SIZE\n",
    "        \n",
    "    matrix = pd.concat([train.iloc[start:end],test[start:end]]).pivot('userId','movieId','rating')\n",
    "    movie_means = matrix.mean()\n",
    "    user_means = matrix.mean(axis=1)\n",
    "    mzm = matrix-movie_means\n",
    "    mz = mzm.fillna(0)\n",
    "    mask = -mzm.isnull()\n",
    "\n",
    "\n",
    "    iteration = 0\n",
    "    mse_last = 999\n",
    "    while iteration<10:\n",
    "        iteration += 1\n",
    "        svd = TruncatedSVD(n_components=15,random_state=42)\n",
    "        svd.fit(mz)\n",
    "        mzsvd = pd.DataFrame(svd.inverse_transform(svd.transform(mz)),columns=mz.columns,index=mz.index)\n",
    "\n",
    "        mse = mean_squared_error(mzsvd[mask].fillna(0),mzm[mask].fillna(0))\n",
    "        #print('%i %.5f %.5f'%(iteration,mse,mse_last-mse))\n",
    "        mzsvd[mask] = mzm[mask]\n",
    "\n",
    "        mz = mzsvd\n",
    "        if summary_mse-mse<0.01: break\n",
    "        mse_last = mse\n",
    "        summary_mse += mse_last\n",
    "\n",
    "\n",
    "    print('doing', start, end, 'mse', mse)\n",
    "\n",
    "        \n",
    "    m = mz+movie_means\n",
    "    m = m.clip(lower=1,upper=5)\n",
    "\n",
    "    test['rating'] = test[start:end].apply(lambda x:m[m.index==x.userId][x.movieId].values[0],axis=1)\n",
    "\n",
    "    # There are some movies who did not have enough info to make prediction, so just used average value for user\n",
    "    missing = np.where(test[start:end].rating.isnull())[0]\n",
    "    test.ix[missing,'rating'] = user_means[test.loc[missing].userId].values"
   ]
  },
  {
   "cell_type": "code",
   "execution_count": 11,
   "metadata": {},
   "outputs": [
    {
     "name": "stdout",
     "output_type": "stream",
     "text": [
      "1 0.00009 998.99991\n",
      "2 0.00008 0.00000\n"
     ]
    },
    {
     "name": "stderr",
     "output_type": "stream",
     "text": [
      "/home/dev/anaconda3/lib/python3.6/site-packages/ipykernel_launcher.py:31: SettingWithCopyWarning: \n",
      "A value is trying to be set on a copy of a slice from a DataFrame.\n",
      "Try using .loc[row_indexer,col_indexer] = value instead\n",
      "\n",
      "See the caveats in the documentation: http://pandas.pydata.org/pandas-docs/stable/indexing.html#indexing-view-versus-copy\n"
     ]
    }
   ],
   "source": [
    "start = B_RES\n",
    "end = LEN\n",
    "\n",
    "matrix = pd.concat([train.iloc[start:end],test[start:end]]).pivot('userId','movieId','rating')\n",
    "movie_means = matrix.mean()\n",
    "user_means = matrix.mean(axis=1)\n",
    "mzm = matrix-movie_means\n",
    "mz = mzm.fillna(0)\n",
    "mask = -mzm.isnull()\n",
    "\n",
    "\n",
    "iteration = 0\n",
    "mse_last = 999\n",
    "while iteration<10:\n",
    "    iteration += 1\n",
    "    svd = TruncatedSVD(n_components=15,random_state=42)\n",
    "    svd.fit(mz)\n",
    "    mzsvd = pd.DataFrame(svd.inverse_transform(svd.transform(mz)),columns=mz.columns,index=mz.index)\n",
    "\n",
    "    mse = mean_squared_error(mzsvd[mask].fillna(0),mzm[mask].fillna(0))\n",
    "    print('%i %.5f %.5f'%(iteration,mse,mse_last-mse))\n",
    "    mzsvd[mask] = mzm[mask]\n",
    "\n",
    "    mz = mzsvd\n",
    "    if mse_last-mse<0.00001: break\n",
    "    mse_last = mse\n",
    "\n",
    "m = mz+movie_means\n",
    "m = m.clip(lower=1,upper=5)\n",
    "\n",
    "test[start:end]['rating'] = test[start:end].apply(lambda x:m[m.index==x.userId][x.movieId].values[0],axis=1)\n",
    "\n",
    "# There are some movies who did not have enough info to make prediction, so just used average value for user\n",
    "missing = np.where(test.rating.isnull())[0]\n",
    "test.ix[missing,'rating'] = user_means[test.loc[missing].userId].values"
   ]
  },
  {
   "cell_type": "code",
   "execution_count": 45,
   "metadata": {},
   "outputs": [
    {
     "data": {
      "text/html": [
       "<div>\n",
       "<style>\n",
       "    .dataframe thead tr:only-child th {\n",
       "        text-align: right;\n",
       "    }\n",
       "\n",
       "    .dataframe thead th {\n",
       "        text-align: left;\n",
       "    }\n",
       "\n",
       "    .dataframe tbody tr th {\n",
       "        vertical-align: top;\n",
       "    }\n",
       "</style>\n",
       "<table border=\"1\" class=\"dataframe\">\n",
       "  <thead>\n",
       "    <tr style=\"text-align: right;\">\n",
       "      <th></th>\n",
       "      <th>movieId</th>\n",
       "      <th>userId</th>\n",
       "      <th>rating</th>\n",
       "    </tr>\n",
       "  </thead>\n",
       "  <tbody>\n",
       "    <tr>\n",
       "      <th>0</th>\n",
       "      <td>939</td>\n",
       "      <td>3128775406573976678</td>\n",
       "      <td>4.000000</td>\n",
       "    </tr>\n",
       "    <tr>\n",
       "      <th>1</th>\n",
       "      <td>19</td>\n",
       "      <td>6058877902987009152</td>\n",
       "      <td>2.428571</td>\n",
       "    </tr>\n",
       "    <tr>\n",
       "      <th>2</th>\n",
       "      <td>1213</td>\n",
       "      <td>2787275058272728238</td>\n",
       "      <td>3.666667</td>\n",
       "    </tr>\n",
       "    <tr>\n",
       "      <th>3</th>\n",
       "      <td>1141</td>\n",
       "      <td>14199414671932452776</td>\n",
       "      <td>3.000000</td>\n",
       "    </tr>\n",
       "    <tr>\n",
       "      <th>4</th>\n",
       "      <td>2935</td>\n",
       "      <td>5958052843391945803</td>\n",
       "      <td>3.750000</td>\n",
       "    </tr>\n",
       "  </tbody>\n",
       "</table>\n",
       "</div>"
      ],
      "text/plain": [
       "   movieId                userId    rating\n",
       "0      939   3128775406573976678  4.000000\n",
       "1       19   6058877902987009152  2.428571\n",
       "2     1213   2787275058272728238  3.666667\n",
       "3     1141  14199414671932452776  3.000000\n",
       "4     2935   5958052843391945803  3.750000"
      ]
     },
     "execution_count": 45,
     "metadata": {},
     "output_type": "execute_result"
    }
   ],
   "source": [
    "test.head()"
   ]
  },
  {
   "cell_type": "code",
   "execution_count": 47,
   "metadata": {},
   "outputs": [],
   "source": [
    "test.index += 1"
   ]
  },
  {
   "cell_type": "code",
   "execution_count": 12,
   "metadata": {
    "collapsed": true
   },
   "outputs": [],
   "source": [
    "tmp = test.fillna(3.0)"
   ]
  },
  {
   "cell_type": "code",
   "execution_count": 59,
   "metadata": {},
   "outputs": [
    {
     "data": {
      "text/plain": [
       "movieId    3.429000e+03\n",
       "userId     1.453082e+19\n",
       "rating     3.000000e+00\n",
       "Name: 165, dtype: float64"
      ]
     },
     "execution_count": 59,
     "metadata": {},
     "output_type": "execute_result"
    }
   ],
   "source": [
    "tmp.iloc[164]"
   ]
  },
  {
   "cell_type": "code",
   "execution_count": 14,
   "metadata": {
    "collapsed": true
   },
   "outputs": [],
   "source": [
    "tmp.to_csv('svd_subm.csv', index=True, columns=['rating'], header=True, index_label=['Id'])"
   ]
  },
  {
   "cell_type": "code",
   "execution_count": 52,
   "metadata": {},
   "outputs": [
    {
     "data": {
      "text/plain": [
       "(969451, 3)"
      ]
     },
     "execution_count": 52,
     "metadata": {},
     "output_type": "execute_result"
    }
   ],
   "source": [
    "test.shape"
   ]
  },
  {
   "cell_type": "markdown",
   "metadata": {},
   "source": [
    "## doing submission"
   ]
  },
  {
   "cell_type": "code",
   "execution_count": null,
   "metadata": {
    "collapsed": true
   },
   "outputs": [],
   "source": [
    "embs = {}\n",
    "\n",
    "i = 0\n",
    "\n",
    "for row in train.iterrows():\n",
    "    mid = int(row[1][1])\n",
    "    if mid not in embs.keys():\n",
    "        i += 1\n",
    "        embs[mid] = (mid2emb(mid))\n",
    "        if i % 1000 == 0:\n",
    "            print('dumping to file')\n",
    "            write_cache_to_file('dump_' + str(i) + \".txt\")\n",
    "    "
   ]
  },
  {
   "cell_type": "code",
   "execution_count": 84,
   "metadata": {
    "collapsed": true
   },
   "outputs": [],
   "source": [
    "def do_pred(e):\n",
    "    m = xgb.DMatrix(e)\n",
    "    return bst.predict(m)"
   ]
  },
  {
   "cell_type": "code",
   "execution_count": 85,
   "metadata": {},
   "outputs": [
    {
     "name": "stderr",
     "output_type": "stream",
     "text": [
      "Exception ignored in: <bound method DMatrix.__del__ of <xgboost.core.DMatrix object at 0x7f2f920d1128>>\n",
      "Traceback (most recent call last):\n",
      "  File \"/home/dev/anaconda3/lib/python3.6/site-packages/xgboost/core.py\", line 324, in __del__\n",
      "    _check_call(_LIB.XGDMatrixFree(self.handle))\n",
      "AttributeError: 'DMatrix' object has no attribute 'handle'\n",
      "Exception ignored in: <bound method DMatrix.__del__ of <xgboost.core.DMatrix object at 0x7f2f92118a20>>\n",
      "Traceback (most recent call last):\n",
      "  File \"/home/dev/anaconda3/lib/python3.6/site-packages/xgboost/core.py\", line 324, in __del__\n",
      "    _check_call(_LIB.XGDMatrixFree(self.handle))\n",
      "AttributeError: 'DMatrix' object has no attribute 'handle'\n"
     ]
    },
    {
     "name": "stdout",
     "output_type": "stream",
     "text": [
      "dumpnig to file\n",
      "dumpnig to file\n",
      "dumpnig to file\n",
      "dumpnig to file\n",
      "dumpnig to file\n",
      "dumpnig to file\n",
      "dumpnig to file\n"
     ]
    },
    {
     "name": "stderr",
     "output_type": "stream",
     "text": [
      "Exception ignored in: <bound method DMatrix.__del__ of <xgboost.core.DMatrix object at 0x7f2f92f78710>>\n",
      "Traceback (most recent call last):\n",
      "  File \"/home/dev/anaconda3/lib/python3.6/site-packages/xgboost/core.py\", line 324, in __del__\n",
      "    _check_call(_LIB.XGDMatrixFree(self.handle))\n",
      "AttributeError: 'DMatrix' object has no attribute 'handle'\n",
      "Exception ignored in: <bound method DMatrix.__del__ of <xgboost.core.DMatrix object at 0x7f2f9c073c50>>\n",
      "Traceback (most recent call last):\n",
      "  File \"/home/dev/anaconda3/lib/python3.6/site-packages/xgboost/core.py\", line 324, in __del__\n",
      "    _check_call(_LIB.XGDMatrixFree(self.handle))\n",
      "AttributeError: 'DMatrix' object has no attribute 'handle'\n"
     ]
    },
    {
     "name": "stdout",
     "output_type": "stream",
     "text": [
      "dumpnig to file\n",
      "dumpnig to file\n",
      "dumpnig to file\n",
      "dumpnig to file\n",
      "dumpnig to file\n"
     ]
    }
   ],
   "source": [
    "test_embs = {}\n",
    "desc_cache = {}\n",
    "\n",
    "preds = []\n",
    "\n",
    "for r in test.iterrows():\n",
    "    mid = int(r[1][0])\n",
    "    if mid not in test_embs.keys():\n",
    "        i += 1\n",
    "        test_embs[mid] = (mid2emb(mid))\n",
    "        if i % 1000 == 0:\n",
    "            p rint('dumpnig to file')\n",
    "            write_cache_to_file('test_dump' + str(i) + \".txt\")\n",
    "    \n",
    "    e = np.array(test_embs[mid]).reshape(1,300)\n",
    "    preds.append(do_pred(e))\n",
    "        "
   ]
  },
  {
   "cell_type": "code",
   "execution_count": 99,
   "metadata": {
    "collapsed": true
   },
   "outputs": [],
   "source": [
    "subm = test.drop(['userId'],axis=1)"
   ]
  },
  {
   "cell_type": "code",
   "execution_count": 100,
   "metadata": {
    "collapsed": true
   },
   "outputs": [],
   "source": [
    "subm['rating'] = np.array(preds)"
   ]
  },
  {
   "cell_type": "code",
   "execution_count": 102,
   "metadata": {
    "collapsed": true
   },
   "outputs": [],
   "source": [
    "subm.index += 1"
   ]
  },
  {
   "cell_type": "code",
   "execution_count": 103,
   "metadata": {
    "collapsed": true
   },
   "outputs": [],
   "source": [
    "subm.to_csv('submission.csv', index=True, columns=['rating'],header=['rating'])"
   ]
  },
  {
   "cell_type": "code",
   "execution_count": 95,
   "metadata": {},
   "outputs": [
    {
     "data": {
      "text/html": [
       "<div>\n",
       "<style>\n",
       "    .dataframe thead tr:only-child th {\n",
       "        text-align: right;\n",
       "    }\n",
       "\n",
       "    .dataframe thead th {\n",
       "        text-align: left;\n",
       "    }\n",
       "\n",
       "    .dataframe tbody tr th {\n",
       "        vertical-align: top;\n",
       "    }\n",
       "</style>\n",
       "<table border=\"1\" class=\"dataframe\">\n",
       "  <thead>\n",
       "    <tr style=\"text-align: right;\">\n",
       "      <th></th>\n",
       "      <th>movieId</th>\n",
       "      <th>rating</th>\n",
       "    </tr>\n",
       "  </thead>\n",
       "  <tbody>\n",
       "    <tr>\n",
       "      <th>0</th>\n",
       "      <td>939</td>\n",
       "      <td>3.848868</td>\n",
       "    </tr>\n",
       "    <tr>\n",
       "      <th>1</th>\n",
       "      <td>19</td>\n",
       "      <td>2.596153</td>\n",
       "    </tr>\n",
       "    <tr>\n",
       "      <th>2</th>\n",
       "      <td>1213</td>\n",
       "      <td>3.856700</td>\n",
       "    </tr>\n",
       "    <tr>\n",
       "      <th>3</th>\n",
       "      <td>1141</td>\n",
       "      <td>3.359594</td>\n",
       "    </tr>\n",
       "    <tr>\n",
       "      <th>4</th>\n",
       "      <td>2935</td>\n",
       "      <td>3.672021</td>\n",
       "    </tr>\n",
       "  </tbody>\n",
       "</table>\n",
       "</div>"
      ],
      "text/plain": [
       "   movieId    rating\n",
       "0      939  3.848868\n",
       "1       19  2.596153\n",
       "2     1213  3.856700\n",
       "3     1141  3.359594\n",
       "4     2935  3.672021"
      ]
     },
     "execution_count": 95,
     "metadata": {},
     "output_type": "execute_result"
    }
   ],
   "source": [
    "subm.head()"
   ]
  },
  {
   "cell_type": "code",
   "execution_count": 96,
   "metadata": {
    "collapsed": true
   },
   "outputs": [],
   "source": [
    "subm.drop_duplicates(subset='movieId', inplace=True)"
   ]
  },
  {
   "cell_type": "markdown",
   "metadata": {},
   "source": [
    "## average of desc and svd"
   ]
  },
  {
   "cell_type": "code",
   "execution_count": 70,
   "metadata": {
    "collapsed": true
   },
   "outputs": [],
   "source": [
    "xgb_p = pd.read_csv('submission.csv')\n",
    "svd_p = pd.read_csv('svd_subm.csv')"
   ]
  },
  {
   "cell_type": "code",
   "execution_count": 90,
   "metadata": {},
   "outputs": [],
   "source": [
    "con = pd.concat((xgb_p, svd_p), axis=1)"
   ]
  },
  {
   "cell_type": "code",
   "execution_count": 91,
   "metadata": {},
   "outputs": [],
   "source": [
    "con = con.drop(['Id'],axis=1)"
   ]
  },
  {
   "cell_type": "code",
   "execution_count": 92,
   "metadata": {},
   "outputs": [],
   "source": [
    "con['rmean'] = con.mean(axis=(1))"
   ]
  },
  {
   "cell_type": "code",
   "execution_count": 93,
   "metadata": {},
   "outputs": [
    {
     "data": {
      "text/html": [
       "<div>\n",
       "<style>\n",
       "    .dataframe thead tr:only-child th {\n",
       "        text-align: right;\n",
       "    }\n",
       "\n",
       "    .dataframe thead th {\n",
       "        text-align: left;\n",
       "    }\n",
       "\n",
       "    .dataframe tbody tr th {\n",
       "        vertical-align: top;\n",
       "    }\n",
       "</style>\n",
       "<table border=\"1\" class=\"dataframe\">\n",
       "  <thead>\n",
       "    <tr style=\"text-align: right;\">\n",
       "      <th></th>\n",
       "      <th>rating</th>\n",
       "      <th>rating1</th>\n",
       "      <th>rmean</th>\n",
       "    </tr>\n",
       "  </thead>\n",
       "  <tbody>\n",
       "    <tr>\n",
       "      <th>0</th>\n",
       "      <td>3.848868</td>\n",
       "      <td>4.000000</td>\n",
       "      <td>3.924434</td>\n",
       "    </tr>\n",
       "    <tr>\n",
       "      <th>1</th>\n",
       "      <td>2.596153</td>\n",
       "      <td>2.428571</td>\n",
       "      <td>2.512362</td>\n",
       "    </tr>\n",
       "    <tr>\n",
       "      <th>2</th>\n",
       "      <td>3.856700</td>\n",
       "      <td>3.666667</td>\n",
       "      <td>3.761683</td>\n",
       "    </tr>\n",
       "    <tr>\n",
       "      <th>3</th>\n",
       "      <td>3.359594</td>\n",
       "      <td>3.000000</td>\n",
       "      <td>3.179797</td>\n",
       "    </tr>\n",
       "    <tr>\n",
       "      <th>4</th>\n",
       "      <td>3.672021</td>\n",
       "      <td>3.750000</td>\n",
       "      <td>3.711011</td>\n",
       "    </tr>\n",
       "  </tbody>\n",
       "</table>\n",
       "</div>"
      ],
      "text/plain": [
       "     rating   rating1     rmean\n",
       "0  3.848868  4.000000  3.924434\n",
       "1  2.596153  2.428571  2.512362\n",
       "2  3.856700  3.666667  3.761683\n",
       "3  3.359594  3.000000  3.179797\n",
       "4  3.672021  3.750000  3.711011"
      ]
     },
     "execution_count": 93,
     "metadata": {},
     "output_type": "execute_result"
    }
   ],
   "source": [
    "con.head()"
   ]
  },
  {
   "cell_type": "code",
   "execution_count": 96,
   "metadata": {
    "collapsed": true
   },
   "outputs": [],
   "source": [
    "con.index += 1"
   ]
  },
  {
   "cell_type": "code",
   "execution_count": 97,
   "metadata": {
    "collapsed": true
   },
   "outputs": [],
   "source": [
    "con.to_csv('mean_subm.csv', index=True, index_label='Id', columns=['rmean'], header=['rating'])"
   ]
  }
 ],
 "metadata": {
  "kernelspec": {
   "display_name": "Python 3",
   "language": "python",
   "name": "python3"
  },
  "language_info": {
   "codemirror_mode": {
    "name": "ipython",
    "version": 3
   },
   "file_extension": ".py",
   "mimetype": "text/x-python",
   "name": "python",
   "nbconvert_exporter": "python",
   "pygments_lexer": "ipython3",
   "version": "3.6.1"
  }
 },
 "nbformat": 4,
 "nbformat_minor": 1
}
